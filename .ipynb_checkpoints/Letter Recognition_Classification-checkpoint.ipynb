{
 "cells": [
  {
   "cell_type": "markdown",
   "id": "b21f9f5b",
   "metadata": {},
   "source": [
    "## Aim :\n",
    "- Letter Recognition Data Set is a handwritten digit dataset. The task is to identify each of a large number of black-and-white rectangular pixel displays as one of the 26 capital letters in the English alphabet. The character images were based on 20 different fonts and each letter within these 20 fonts was randomly distorted to produce a file of 20,000 unique stimuli. Each stimulus was converted into 16 primitive numerical attributes (statistical moments and edge counts) which were then scaled to fit into a range of integer values from 0 through 15. We typically train on the first 16000 items and then use the resulting model to predict the letter category for the remaining 4000.\n",
    "\n",
    "## Attribute Information:\n",
    "\n",
    "1. lettr capital letter (26 values from A to Z)\n",
    "2. x-box horizontal position of box (integer)\n",
    "3. y-box vertical position of box (integer)\n",
    "4. width width of box (integer)\n",
    "5. high height of box (integer)\n",
    "6. onpix total # on pixels (integer)\n",
    "7. x-bar mean x of on pixels in box (integer)\n",
    "8. y-bar mean y of on pixels in box (integer)\n",
    "9. x2bar mean x variance (integer)\n",
    "10. y2bar mean y variance (integer)\n",
    "11. xybar mean x y correlation (integer)\n",
    "12. x2ybr mean of x * x * y (integer)\n",
    "13. xy2br mean of x * y * y (integer)\n",
    "14. x-ege mean edge count left to right (integer)\n",
    "15. xegvy correlation of x-ege with y (integer)\n",
    "16. y-ege mean edge count bottom to top (integer)\n",
    "17. yegvx correlation of y-ege with x (integer)"
   ]
  },
  {
   "cell_type": "markdown",
   "id": "1c4a8b40",
   "metadata": {},
   "source": [
    "## About Dataset\n",
    "\n",
    "- It contains the 26 English alphabets as classes, so it's a multiclass classification problem with 26 classes.\n",
    "\n",
    "- Each row in the data set represents an image of a handwritten alphabet. Using some basic image processing, the images are converted into m X n pixels , where m and n depend on the size and resolution of the original image. Each pixel contains numeric values, with higher values denoting the presence of dense 'ink'. In the pixels where nothing is written, the pixel value is 0.\n",
    "\n",
    "- A pixel is called 'on' if it contains to a positive numeric value, else it is called 'off'.\n",
    "\n",
    "- Using the pixelated images, 16 features are derived for each image, such as the width of the box, the ratio of the mean variance of x divided by the width of the box, etc. \n",
    "\n",
    "- The dataset had 20,000 observations with 17 variables. The variable letter is a categorical variable having 26 factors from A to Z. In this multiclass classification problem, we will consider letter as dependent variable and others as independent variables."
   ]
  },
  {
   "cell_type": "code",
   "execution_count": 15,
   "id": "fd89a0cc",
   "metadata": {},
   "outputs": [],
   "source": [
    "## Importing necessary lib\n",
    "import pandas as pd\n",
    "import numpy as np\n",
    "import matplotlib.pyplot as plt\n",
    "%matplotlib inline\n",
    "import seaborn as sns\n",
    "import warnings\n",
    "warnings.filterwarnings(\"ignore\")\n",
    "plt.style.use('dark_background')\n",
    "\n",
    "from sklearn.preprocessing import MinMaxScaler\n",
    "\n",
    "from sklearn.model_selection import train_test_split\n",
    "\n",
    "from sklearn.naive_bayes import GaussianNB\n",
    "from sklearn.tree import DecisionTreeClassifier\n",
    "from sklearn.ensemble import BaggingClassifier\n",
    "from sklearn.ensemble import RandomForestClassifier\n",
    "\n",
    "from sklearn.metrics import accuracy_score,confusion_matrix,classification_report, plot_confusion_matrix\n"
   ]
  },
  {
   "cell_type": "markdown",
   "id": "d8bc9bcd",
   "metadata": {},
   "source": [
    "## Data Preprocessing :"
   ]
  },
  {
   "cell_type": "code",
   "execution_count": 2,
   "id": "625efdbc",
   "metadata": {},
   "outputs": [],
   "source": [
    "data_letter = pd.read_csv(\"F:\\Datasets\\letter-recognition_BM_RF.csv\")"
   ]
  },
  {
   "cell_type": "code",
   "execution_count": 3,
   "id": "72b814a3",
   "metadata": {},
   "outputs": [
    {
     "data": {
      "text/plain": [
       "((20000, 17),\n",
       " Index(['letter', 'xbox ', 'ybox ', 'width ', 'height', 'onpix ', 'xbar ',\n",
       "        'ybar ', 'x2bar', 'y2bar ', 'xybar ', 'x2ybar', 'xy2bar', 'xedge ',\n",
       "        'xedgey', 'yedge ', 'yedgex'],\n",
       "       dtype='object'))"
      ]
     },
     "execution_count": 3,
     "metadata": {},
     "output_type": "execute_result"
    }
   ],
   "source": [
    "data_letter.shape, data_letter.columns"
   ]
  },
  {
   "cell_type": "code",
   "execution_count": 4,
   "id": "754a4de0",
   "metadata": {},
   "outputs": [
    {
     "data": {
      "text/plain": [
       "letter    0\n",
       "xbox      0\n",
       "ybox      0\n",
       "width     0\n",
       "height    0\n",
       "onpix     0\n",
       "xbar      0\n",
       "ybar      0\n",
       "x2bar     0\n",
       "y2bar     0\n",
       "xybar     0\n",
       "x2ybar    0\n",
       "xy2bar    0\n",
       "xedge     0\n",
       "xedgey    0\n",
       "yedge     0\n",
       "yedgex    0\n",
       "dtype: int64"
      ]
     },
     "execution_count": 4,
     "metadata": {},
     "output_type": "execute_result"
    }
   ],
   "source": [
    "data_letter.isnull().sum()"
   ]
  },
  {
   "cell_type": "code",
   "execution_count": 5,
   "id": "f9d7246a",
   "metadata": {},
   "outputs": [
    {
     "data": {
      "text/plain": [
       "26"
      ]
     },
     "execution_count": 5,
     "metadata": {},
     "output_type": "execute_result"
    }
   ],
   "source": [
    "data_letter['letter'].nunique()"
   ]
  },
  {
   "cell_type": "code",
   "execution_count": 9,
   "id": "2fdce9a9",
   "metadata": {},
   "outputs": [
    {
     "data": {
      "text/plain": [
       "<AxesSubplot:xlabel='letter', ylabel='count'>"
      ]
     },
     "execution_count": 9,
     "metadata": {},
     "output_type": "execute_result"
    },
    {
     "data": {
      "image/png": "[encoded data removed]",
      "text/plain": [
       "<Figure size 432x288 with 1 Axes>"
      ]
     },
     "metadata": {},
     "output_type": "display_data"
    }
   ],
   "source": [
    "sns.countplot(data_letter['letter'])\n",
    "#data_letter['letter'].value_counts()"
   ]
  },
  {
   "cell_type": "code",
   "execution_count": 14,
   "id": "a1b3293f",
   "metadata": {},
   "outputs": [
    {
     "data": {
      "text/plain": [
       "<AxesSubplot:>"
      ]
     },
     "execution_count": 14,
     "metadata": {},
     "output_type": "execute_result"
    },
    {
     "data": {
      "image/png": "[encoded data removed]",
      "text/plain": [
       "<Figure size 432x288 with 1 Axes>"
      ]
     },
     "metadata": {},
     "output_type": "display_data"
    }
   ],
   "source": [
    "data_letter['letter'].hist()"
   ]
  },
  {
   "cell_type": "code",
   "execution_count": 10,
   "id": "b484342b",
   "metadata": {},
   "outputs": [],
   "source": [
    "## Function to check Normality using Skewness and kurtosis\n",
    "\n",
    "def skw_krt(data1):\n",
    "    \n",
    "    print(' 1. Skewness of the Every Column in the Dataset is:','\\n',data1.skew().abs())\n",
    "    print('')\n",
    "\n",
    "    print(' 2. Kurtosis of the Every Column in the Dataset is:','\\n',data1.kurtosis().abs())\n",
    "    print('')\n",
    "    \n",
    "    return"
   ]
  },
  {
   "cell_type": "code",
   "execution_count": 11,
   "id": "3117d150",
   "metadata": {},
   "outputs": [
    {
     "name": "stdout",
     "output_type": "stream",
     "text": [
      " 1. Skewness of the Every Column in the Dataset is: \n",
      " xbox      0.715056\n",
      "ybox      0.227967\n",
      "width     0.234941\n",
      "height    0.278249\n",
      "onpix     0.943373\n",
      "xbar      0.310079\n",
      "ybar      0.093471\n",
      "x2bar     1.159975\n",
      "y2bar     0.286934\n",
      "xybar     0.090078\n",
      "x2ybar    0.288168\n",
      "xy2bar    0.273728\n",
      "xedge     1.057288\n",
      "xedgey    0.049198\n",
      "yedge     0.468343\n",
      "yedgex    0.199507\n",
      "dtype: float64\n",
      "\n",
      " 2. Kurtosis of the Every Column in the Dataset is: \n",
      " xbox      0.882928\n",
      "ybox      0.421179\n",
      "width     0.304182\n",
      "height    0.249434\n",
      "onpix     1.190194\n",
      "xbar      1.493437\n",
      "ybar      0.953907\n",
      "x2bar     2.075245\n",
      "y2bar     0.329941\n",
      "xybar     0.323985\n",
      "x2ybar    0.329447\n",
      "xy2bar    1.007517\n",
      "xedge     1.241373\n",
      "xedgey    0.887681\n",
      "yedge     0.306190\n",
      "yedgex    1.120773\n",
      "dtype: float64\n",
      "\n"
     ]
    }
   ],
   "source": [
    "skw_krt(data_letter)"
   ]
  },
  {
   "cell_type": "markdown",
   "id": "78510319",
   "metadata": {},
   "source": [
    "### Obs : \n",
    "- There is no missing value\n",
    "- The dataset is quite balanced having 26 unique character\n",
    "- All the features are normally distributed"
   ]
  },
  {
   "cell_type": "code",
   "execution_count": 16,
   "id": "146e8a19",
   "metadata": {},
   "outputs": [],
   "source": [
    "## Data Splitting\n",
    "np.random.seed(3000)\n",
    "train, test = train_test_split(data_letter, test_size = 0.3, random_state = 7)\n",
    "x_train = train.drop('letter',axis = 1)\n",
    "y_train = train['letter']\n",
    "x_test = test.drop('letter',axis = 1)\n",
    "y_test = test['letter']"
   ]
  },
  {
   "cell_type": "code",
   "execution_count": 17,
   "id": "6f0fe008",
   "metadata": {},
   "outputs": [
    {
     "data": {
      "text/plain": [
       "((14000, 16), (14000,), (6000, 16), (6000,))"
      ]
     },
     "execution_count": 17,
     "metadata": {},
     "output_type": "execute_result"
    }
   ],
   "source": [
    "x_train.shape,y_train.shape, x_test.shape, y_test.shape"
   ]
  },
  {
   "cell_type": "code",
   "execution_count": 18,
   "id": "515b46a9",
   "metadata": {},
   "outputs": [],
   "source": [
    "## Feature Scaling\n",
    "scaler = MinMaxScaler()\n",
    "x_train_sc = scaler.fit_transform(x_train)\n",
    "x_test_sc = scaler.transform(x_test)"
   ]
  },
  {
   "cell_type": "markdown",
   "id": "da74bd9a",
   "metadata": {},
   "source": [
    "## Model Building :\n",
    "#### 1. Gaussian Naive Bayes Model\n",
    "#### 2. Decision Tree Model\n",
    "#### 3. Bagging Model\n",
    "#### 4. Random Forest Model\n"
   ]
  },
  {
   "cell_type": "markdown",
   "id": "bcc3a2d4",
   "metadata": {},
   "source": [
    "### Model_1 : Gaussian NB Model"
   ]
  },
  {
   "cell_type": "code",
   "execution_count": 19,
   "id": "39391a25",
   "metadata": {},
   "outputs": [
    {
     "name": "stdout",
     "output_type": "stream",
     "text": [
      "------------------ GAUSSIAN NAIVE BAYES MODEL ------------------\n",
      "Training Score_Naive Bayes Model : 0.6431\n",
      "\n",
      "Test Score_Naive Bayes Model : 0.6470\n",
      "\n"
     ]
    },
    {
     "data": {
      "image/png": "[encoded data removed]",
      "text/plain": [
       "<Figure size 432x288 with 2 Axes>"
      ]
     },
     "metadata": {},
     "output_type": "display_data"
    },
    {
     "name": "stdout",
     "output_type": "stream",
     "text": [
      "\n",
      "Classification Report_NB Model :\n",
      "               precision    recall  f1-score   support\n",
      "\n",
      "           A       0.83      0.89      0.86       208\n",
      "           B       0.49      0.69      0.57       256\n",
      "           C       0.75      0.76      0.76       199\n",
      "           D       0.63      0.72      0.67       240\n",
      "           E       0.56      0.32      0.41       247\n",
      "           F       0.72      0.75      0.73       243\n",
      "           G       0.52      0.53      0.53       219\n",
      "           H       0.57      0.30      0.39       222\n",
      "           I       0.54      0.71      0.61       238\n",
      "           J       0.80      0.77      0.79       213\n",
      "           K       0.45      0.45      0.45       237\n",
      "           L       0.95      0.77      0.85       225\n",
      "           M       0.66      0.87      0.75       277\n",
      "           N       0.87      0.71      0.79       238\n",
      "           O       0.53      0.74      0.62       231\n",
      "           P       0.90      0.75      0.82       248\n",
      "           Q       0.59      0.61      0.60       229\n",
      "           R       0.62      0.68      0.65       219\n",
      "           S       0.32      0.29      0.30       220\n",
      "           T       0.70      0.71      0.70       225\n",
      "           U       0.86      0.70      0.77       230\n",
      "           V       0.67      0.81      0.73       224\n",
      "           W       0.70      0.81      0.75       243\n",
      "           X       0.41      0.45      0.43       231\n",
      "           Y       0.70      0.39      0.50       227\n",
      "           Z       0.76      0.62      0.68       211\n",
      "\n",
      "    accuracy                           0.65      6000\n",
      "   macro avg       0.66      0.65      0.64      6000\n",
      "weighted avg       0.66      0.65      0.64      6000\n",
      "\n"
     ]
    }
   ],
   "source": [
    "## Creating  Model\n",
    "print('------------------ GAUSSIAN NAIVE BAYES MODEL ------------------')\n",
    "\n",
    "naive = GaussianNB()\n",
    "naive.fit(x_train_sc, y_train)\n",
    "\n",
    "## Determining score of training and test dataset\n",
    "print('Training Score_Naive Bayes Model : %0.4f'%naive.score(x_train_sc, y_train))\n",
    "print('')\n",
    "# print('Test Score_Naive Bayes Model : %0.4f'%naive.score(x_test_sc,y_test))\n",
    "\n",
    "## Predicting and determing accuracy of the model\n",
    "naive_pred = naive.predict(x_test_sc)\n",
    "naive_score = accuracy_score(y_test,naive_pred)\n",
    "print('Test Score_Naive Bayes Model : %0.4f'%naive_score)\n",
    "print('')\n",
    "## Determining accuracy using Confusion Matrix\n",
    "cm = confusion_matrix(y_test,naive_pred)\n",
    "sns.heatmap(cm,annot = True,cmap = plt.cm.CMRmap_r).set_title('Confusion Matrix_Naive Bayes Model')\n",
    "plt.show()\n",
    "print('')\n",
    "## Classification Report\n",
    "print('Classification Report_NB Model :\\n',classification_report(y_test,naive_pred))\n"
   ]
  },
  {
   "cell_type": "code",
   "execution_count": null,
   "id": "97ebf68b",
   "metadata": {},
   "outputs": [],
   "source": []
  },
  {
   "cell_type": "code",
   "execution_count": null,
   "id": "ad1f2b48",
   "metadata": {},
   "outputs": [],
   "source": []
  },
  {
   "cell_type": "code",
   "execution_count": null,
   "id": "582fd777",
   "metadata": {},
   "outputs": [],
   "source": [
    "## Creating Model\n",
    "print('------------------ RANDOM FOREST MODEL ------------------')\n",
    "\n",
    "rf = RandomForestClassifier()\n",
    "rf.fit(x_train,y_train)\n",
    "## Determining score of training and test dataset\n",
    "print('Training Score_RF Model : %0.4f'%rf.score(x_train, y_train))\n",
    "# print('Test Score_Bagging Model : %0.4f'%bagg.score(x_test,y_test))\n",
    "\n",
    "## Predicting and determing accuracy of the model\n",
    "rf_pred = rf.predict(x_test)\n",
    "\n",
    "## Determining Accuracy of the created model through confusion matrix\n",
    "rf_score = accuracy_score(y_test,rf_pred)\n",
    "print('Test Score_TF Model : %0.4f'%rf_score)\n",
    "print('')\n",
    "# ## Determining accuracy using Confusion Matrix\n",
    "# rf_results = confusion_matrix(y_test,rf_pred)\n",
    "# print('Confusion Matrix_RF Model :\\n',rf_results)\n",
    "\n",
    "## Classification Report\n",
    "print('Classification Report_RF Model :\\n',classification_report(y_test,rf_pred))"
   ]
  },
  {
   "cell_type": "markdown",
   "id": "df061d2b",
   "metadata": {},
   "source": [
    "### Obs: Models is overfitting from the difference in training and test data"
   ]
  },
  {
   "cell_type": "code",
   "execution_count": null,
   "id": "74924743",
   "metadata": {},
   "outputs": [],
   "source": [
    "## Using Grid Search\n",
    "pram_grid = {'max_features': ['auto','sqrt','log2'],'criterion':['gini','entropy']}\n",
    "rf_grid = RandomForestClassifier()\n",
    "rf_CV = GridSearchCV(estimator = rf_grid, param_grid = pram_grid, cv = 5)\n",
    "rf_result = rf_CV.fit(x_train, y_train)\n",
    "print('Best Parameters from Grid Search: \\n',rf_CV.best_params_)\n",
    "print('')"
   ]
  },
  {
   "cell_type": "code",
   "execution_count": null,
   "id": "b538a743",
   "metadata": {},
   "outputs": [],
   "source": [
    "## Creating the model with best scores\n",
    "rf_best = RandomForestClassifier(criterion = rf_result.best_params_['criterion'], \n",
    "                             max_features = rf_result.best_params_['max_features'])"
   ]
  },
  {
   "cell_type": "code",
   "execution_count": null,
   "id": "4d0bb986",
   "metadata": {},
   "outputs": [],
   "source": [
    "## Evaluating the model with best parameters\n",
    "rf_best.fit(x_train, y_train)\n",
    "## Determining score of training and test dataset\n",
    "print('Training Score_RF Model_Grid Search Best params : %0.4f'%rf_best.score(x_train, y_train))\n",
    "# print('Test Score_Bagging Model_Grid Search Best params : %0.4f'%bagg_best.score(x_test,y_test))\n",
    "\n",
    "## Predicting and determing accuracy of the model\n",
    "rf_pred_best = rf_best.predict(x_test)\n",
    "\n",
    "## Determining Accuracy of the created model through confusion matrix\n",
    "rf_score_best = accuracy_score(y_test,rf_pred_best)\n",
    "print('Test Score_RF Model_Grid Search Best params : %0.4f'%rf_score_best)\n",
    "print('')\n",
    "# ## Determining accuracy using Confusion Matrix\n",
    "# rf_results_best = confusion_matrix(y_test,rf_pred_best)\n",
    "# print('Confusion Matrix_RF Model_Grid Search Best params :\\n',rf_results_best)\n",
    "\n",
    "# ## Classification Report\n",
    "# print('Classification Report_RF Model_Grid Search Best params :\\n',classification_report(y_test,rf_pred_best))"
   ]
  },
  {
   "cell_type": "markdown",
   "id": "33d5958d",
   "metadata": {},
   "source": [
    "### Obs : Model performance has not approved rathe test score has little decreased"
   ]
  },
  {
   "cell_type": "code",
   "execution_count": null,
   "id": "45e657d9",
   "metadata": {},
   "outputs": [],
   "source": [
    "## Creating Bagging Model\n",
    "print('------------------ BAGGING MODEL ------------------')\n",
    "bagg = BaggingClassifier(base_estimator = None, n_estimators = 10, max_samples = 1.0, \n",
    "                         max_features = 1.0, bootstrap = True)\n",
    "bagg.fit(x_train,y_train)\n",
    "## Determining score of training and test dataset\n",
    "print('Training Score_Bagging Model : %0.4f'%bagg.score(x_train, y_train))\n",
    "## Predicting and determing accuracy of the model\n",
    "bagg_pred = bagg.predict(x_test)\n",
    "## Determining Accuracy of the created model through confusion matrix\n",
    "bagg_score = accuracy_score(y_test,bagg_pred)\n",
    "print('Test Score_Bagging Model : %0.4f'%bagg_score)\n",
    "print('')"
   ]
  },
  {
   "cell_type": "code",
   "execution_count": null,
   "id": "4236d6b5",
   "metadata": {},
   "outputs": [],
   "source": [
    "## Creating a Decision Tree Model\n",
    "print('------------------ DECISION TREE MODEL ------------------')\n",
    "\n",
    "dt = DecisionTreeClassifier(random_state = 0)\n",
    "dt.fit(x_train,y_train)\n",
    "## Determining score of training and test dataset\n",
    "print('Training Score_Decision Tree Model : %0.4f'%dt.score(x_train, y_train))\n",
    "## Predicting and determing accuracy of the model\n",
    "dt_pred = dt.predict(x_test)\n",
    "## Determining Accuracy of the created model through confusion matrix\n",
    "dt_score = accuracy_score(y_test,dt_pred)\n",
    "print('Test Score_Decision Tree Model : %0.4f'%dt_score)\n",
    "print('')"
   ]
  },
  {
   "cell_type": "code",
   "execution_count": null,
   "id": "f09dd1f7",
   "metadata": {},
   "outputs": [],
   "source": []
  },
  {
   "cell_type": "code",
   "execution_count": null,
   "id": "c8471382",
   "metadata": {},
   "outputs": [],
   "source": []
  },
  {
   "cell_type": "code",
   "execution_count": null,
   "id": "635bfcfe",
   "metadata": {},
   "outputs": [],
   "source": []
  },
  {
   "cell_type": "code",
   "execution_count": null,
   "id": "66be2804",
   "metadata": {},
   "outputs": [],
   "source": []
  },
  {
   "cell_type": "code",
   "execution_count": null,
   "id": "0c4f8359",
   "metadata": {},
   "outputs": [],
   "source": []
  },
  {
   "cell_type": "code",
   "execution_count": null,
   "id": "01beee5a",
   "metadata": {},
   "outputs": [],
   "source": []
  },
  {
   "cell_type": "code",
   "execution_count": null,
   "id": "8a7fa4fc",
   "metadata": {},
   "outputs": [],
   "source": []
  },
  {
   "cell_type": "code",
   "execution_count": null,
   "id": "7ccb14fe",
   "metadata": {},
   "outputs": [],
   "source": []
  },
  {
   "cell_type": "code",
   "execution_count": null,
   "id": "e2f68a93",
   "metadata": {},
   "outputs": [],
   "source": []
  },
  {
   "cell_type": "code",
   "execution_count": null,
   "id": "0618fa5e",
   "metadata": {},
   "outputs": [],
   "source": []
  },
  {
   "cell_type": "code",
   "execution_count": null,
   "id": "53d1b1d3",
   "metadata": {},
   "outputs": [],
   "source": []
  },
  {
   "cell_type": "code",
   "execution_count": null,
   "id": "562ba6a3",
   "metadata": {},
   "outputs": [],
   "source": []
  },
  {
   "cell_type": "code",
   "execution_count": null,
   "id": "3d132568",
   "metadata": {},
   "outputs": [],
   "source": []
  },
  {
   "cell_type": "code",
   "execution_count": null,
   "id": "dfed4cda",
   "metadata": {},
   "outputs": [],
   "source": []
  },
  {
   "cell_type": "code",
   "execution_count": null,
   "id": "c471f513",
   "metadata": {},
   "outputs": [],
   "source": []
  },
  {
   "cell_type": "code",
   "execution_count": null,
   "id": "2295dd46",
   "metadata": {},
   "outputs": [],
   "source": []
  },
  {
   "cell_type": "code",
   "execution_count": null,
   "id": "9db8b8fb",
   "metadata": {},
   "outputs": [],
   "source": []
  },
  {
   "cell_type": "code",
   "execution_count": null,
   "id": "a8f6d1df",
   "metadata": {},
   "outputs": [],
   "source": []
  },
  {
   "cell_type": "code",
   "execution_count": null,
   "id": "70de3b5d",
   "metadata": {},
   "outputs": [],
   "source": []
  },
  {
   "cell_type": "code",
   "execution_count": null,
   "id": "eba01e4f",
   "metadata": {},
   "outputs": [],
   "source": []
  },
  {
   "cell_type": "code",
   "execution_count": null,
   "id": "05302fe9",
   "metadata": {},
   "outputs": [],
   "source": []
  },
  {
   "cell_type": "code",
   "execution_count": null,
   "id": "ece14729",
   "metadata": {},
   "outputs": [],
   "source": []
  },
  {
   "cell_type": "code",
   "execution_count": null,
   "id": "fc005f99",
   "metadata": {},
   "outputs": [],
   "source": []
  }
 ],
 "metadata": {
  "kernelspec": {
   "display_name": "Python 3 (ipykernel)",
   "language": "python",
   "name": "python3"
  },
  "language_info": {
   "codemirror_mode": {
    "name": "ipython",
    "version": 3
   },
   "file_extension": ".py",
   "mimetype": "text/x-python",
   "name": "python",
   "nbconvert_exporter": "python",
   "pygments_lexer": "ipython3",
   "version": "3.9.12"
  }
 },
 "nbformat": 4,
 "nbformat_minor": 5
}

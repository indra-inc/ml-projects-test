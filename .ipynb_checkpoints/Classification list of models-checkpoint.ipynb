{
 "cells": [
  {
   "cell_type": "code",
   "execution_count": null,
   "id": "76892281",
   "metadata": {},
   "outputs": [],
   "source": [
    "## Creating  Model\n",
    "print('------------------ LOGISTIC REGRESSION MODEL ------------------')\n",
    "\n",
    "logis = LogisticRegression(random_state = 0)\n",
    "logis.fit(x_train_sc, y_train)\n",
    "\n",
    "## Determining score of training and test dataset\n",
    "print('Training Score_Logistic Regression Model : %0.4f'%logis.score(x_train_sc, y_train))\n",
    "print('')\n",
    "# print('Test Score_Logistic Regression Model : %0.4f'%logis.score(x_test_sc,y_test))\n",
    "## Predicting and determing accuracy of the model\n",
    "logis_pred = logis.predict(x_test_sc)\n",
    "logis_score = accuracy_score(y_test,logis_pred)\n",
    "print('Test Score_Logistic Reg : %0.4f'%logis_score)\n",
    "print('')\n",
    "## Determining accuracy using Confusion Matrix\n",
    "logis_results = confusion_matrix(y_test,logis_pred)\n",
    "print('Confusion Matrix_Logistic Reg :\\n',logis_results)\n",
    "print('')\n",
    "## Classification Report\n",
    "print('Classification Logistic Regression Modell :\\n',classification_report(y_test,logis_pred))"
   ]
  },
  {
   "cell_type": "code",
   "execution_count": null,
   "id": "baa5c0de",
   "metadata": {},
   "outputs": [],
   "source": [
    "## Creating  Model\n",
    "print('------------------ GAUSSIAN NAIVE BAYES MODEL ------------------')\n",
    "\n",
    "naive = GaussianNB()\n",
    "naive.fit(x_train_sc, y_train)\n",
    "\n",
    "## Determining score of training and test dataset\n",
    "print('Training Score_Naive Bayes Model : %0.4f'%naive.score(x_train_sc, y_train))\n",
    "print('')\n",
    "# print('Test Score_Naive Bayes Model : %0.4f'%naive.score(x_test_sc,y_test))\n",
    "\n",
    "## Predicting and determing accuracy of the model\n",
    "naive_pred = naive.predict(x_test_sc)\n",
    "naive_score = accuracy_score(y_test,naive_pred)\n",
    "print('Test Score_Naive Bayes Model : %0.4f'%naive_score)\n",
    "print('')\n",
    "## Determining accuracy using Confusion Matrix\n",
    "naive_results = confusion_matrix(y_test,naive_pred)\n",
    "print('Confusion Matrix_Naive Bayes Model :\\n',naive_results)\n",
    "print('')\n",
    "## Classification Report\n",
    "print('Classification Report_NB Model :\\n',classification_report(y_test,naive_pred))"
   ]
  },
  {
   "cell_type": "code",
   "execution_count": null,
   "id": "b0f9a49a",
   "metadata": {},
   "outputs": [],
   "source": [
    "print('------------------ k-NN MODEL ------------------')\n",
    "\n",
    "## Store accuracy in array for different values of k\n",
    "knn_accuracy_list = []\n",
    "for k in range(21):\n",
    "    k = k+1\n",
    "    # Creating Model\n",
    "    knn = KNeighborsClassifier(n_neighbors = k)\n",
    "    # Model fitting\n",
    "    knn.fit(x_train_sc, y_train)\n",
    "    # Make prediction on test data\n",
    "    knn_pred = knn.predict(x_test_sc)\n",
    "    # Creating Confusion Matrix\n",
    "    knn_results = confusion_matrix(y_test,knn_pred)\n",
    "    # Displaying the accuracy of the model\n",
    "    knn_score = accuracy_score(y_test,knn_pred)\n",
    "    print(\"Score of kNN model for k =\",k,\"is : %0.4f\"%knn_score)\n",
    "    print('')\n",
    "    # Appending the accuracy score\n",
    "    knn_accuracy_list.append(knn_score)\n",
    "## Determining the Best Accuracy\n",
    "print('Maximum Accuracy_kNN Model is : %0.4f'%max(knn_accuracy_list))\n",
    "print('')\n",
    "## Displaying accuracy of k-NN model for different values of k\n",
    "curve = pd.DataFrame(knn_accuracy_list)\n",
    "curve.plot()"
   ]
  },
  {
   "cell_type": "code",
   "execution_count": null,
   "id": "f835fe1a",
   "metadata": {},
   "outputs": [],
   "source": []
  },
  {
   "cell_type": "code",
   "execution_count": null,
   "id": "aa5a980a",
   "metadata": {},
   "outputs": [],
   "source": [
    "# Creating a SVM Model\n",
    "print('------------------ SVM MODEL ------------------')\n",
    "\n",
    "svm = SVC(kernel = 'rbf', random_state = 0) \n",
    "svm.fit(x_train_sc, y_train)\n",
    "\n",
    "## Determining score of training and test dataset\n",
    "print('Training Score_SVM Model : %0.4f'%svm.score(x_train_sc, y_train))\n",
    "print('')\n",
    "# print('Test Score_SVM Model : %0.4f'%svc_linear.score(x_test_sc,y_test))\n",
    "\n",
    "## Predicting and determing accuracy of the model\n",
    "svm_pred = svm.predict(x_test_sc)\n",
    "svm_score = accuracy_score(y_test,svm_pred)\n",
    "print('Test Score_SVM Model : %0.4f'%svm_score)\n",
    "print('')\n",
    "## Determining accuracy using Confusion Matrix\n",
    "svm_results = confusion_matrix(y_test,svm_pred)\n",
    "print('Confusion Matrix_SVM Model :\\n',svm_results)\n",
    "print('')\n",
    "\n",
    "## Classification Report\n",
    "print('Classification Report_SVM Model :\\n',classification_report(y_test,svm_pred))"
   ]
  },
  {
   "cell_type": "code",
   "execution_count": null,
   "id": "d588b1cf",
   "metadata": {},
   "outputs": [],
   "source": []
  },
  {
   "cell_type": "code",
   "execution_count": null,
   "id": "0146c334",
   "metadata": {},
   "outputs": [],
   "source": []
  },
  {
   "cell_type": "code",
   "execution_count": null,
   "id": "0ec2f710",
   "metadata": {},
   "outputs": [],
   "source": []
  },
  {
   "cell_type": "code",
   "execution_count": null,
   "id": "7f84ed2a",
   "metadata": {},
   "outputs": [],
   "source": []
  },
  {
   "cell_type": "code",
   "execution_count": null,
   "id": "734f7906",
   "metadata": {},
   "outputs": [],
   "source": []
  },
  {
   "cell_type": "code",
   "execution_count": null,
   "id": "aeca85a8",
   "metadata": {},
   "outputs": [],
   "source": []
  },
  {
   "cell_type": "code",
   "execution_count": null,
   "id": "4e8317a7",
   "metadata": {},
   "outputs": [],
   "source": []
  },
  {
   "cell_type": "code",
   "execution_count": null,
   "id": "237cf3f0",
   "metadata": {},
   "outputs": [],
   "source": []
  },
  {
   "cell_type": "code",
   "execution_count": null,
   "id": "e4d1c04b",
   "metadata": {},
   "outputs": [],
   "source": []
  },
  {
   "cell_type": "code",
   "execution_count": null,
   "id": "2ca0727e",
   "metadata": {},
   "outputs": [],
   "source": []
  },
  {
   "cell_type": "code",
   "execution_count": null,
   "id": "099a85c1",
   "metadata": {},
   "outputs": [],
   "source": []
  },
  {
   "cell_type": "code",
   "execution_count": null,
   "id": "d1a5262f",
   "metadata": {},
   "outputs": [],
   "source": []
  },
  {
   "cell_type": "code",
   "execution_count": null,
   "id": "d7f1b3f2",
   "metadata": {},
   "outputs": [],
   "source": []
  },
  {
   "cell_type": "code",
   "execution_count": null,
   "id": "f87f5c96",
   "metadata": {},
   "outputs": [],
   "source": []
  },
  {
   "cell_type": "code",
   "execution_count": null,
   "id": "2f84134f",
   "metadata": {},
   "outputs": [],
   "source": []
  },
  {
   "cell_type": "code",
   "execution_count": null,
   "id": "dc374a52",
   "metadata": {},
   "outputs": [],
   "source": []
  }
 ],
 "metadata": {
  "kernelspec": {
   "display_name": "Python 3 (ipykernel)",
   "language": "python",
   "name": "python3"
  },
  "language_info": {
   "codemirror_mode": {
    "name": "ipython",
    "version": 3
   },
   "file_extension": ".py",
   "mimetype": "text/x-python",
   "name": "python",
   "nbconvert_exporter": "python",
   "pygments_lexer": "ipython3",
   "version": "3.9.12"
  }
 },
 "nbformat": 4,
 "nbformat_minor": 5
}

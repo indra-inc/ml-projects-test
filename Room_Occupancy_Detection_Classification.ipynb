{
 "cells": [
  {
   "cell_type": "markdown",
   "id": "b71afaa4",
   "metadata": {},
   "source": [
    "## Data Set Information:\n",
    "\n",
    "- * Abstract: Experimental data used for binary classification (room occupancy) from Temperature,Humidity,Light and CO2. Ground-truth occupancy was obtained from time stamped pictures that were taken every minute i.e predicting whether a room or rooms are occupied based on environmental measures such as temperature, humidity, and related measures.\n",
    "- * This is a type of common time series classification problem called room occupancy classification.\n",
    "- * The dataset was collected by monitoring an office with a suite of environmental sensors and using a camera to determine if the room was occupied.\n",
    "- Attribute Information:\n",
    "\n",
    "- date time year-month-day hour:minute:second\n",
    "- Temperature, in Celsius\n",
    "- Relative Humidity, %ge\n",
    "- Light, in Lux\n",
    "- CO2, in ppm(parts per million)\n",
    "- Humidity Ratio, derived quantity from temperature and relative humidity measured in kgwater-vapor/kg-air\n",
    "- Occupancy, 0 or 1, 0 for not occupied, 1 for occupied status"
   ]
  },
  {
   "cell_type": "markdown",
   "id": "ec782391",
   "metadata": {},
   "source": [
    "- The three files are as follows:\n",
    "\n",
    "- datatest.txt (test): From 2015-02-02 14:19:00 to 2015-02-04 10:43:00\n",
    "- datatraining.txt (train): From 2015-02-04 17:51:00 to 2015-02-10 09:33:00\n",
    "- datatest2.txt (val): From 2015-02-11 14:48:00 to 2015-02-18 09:19:00"
   ]
  },
  {
   "cell_type": "markdown",
   "id": "fca65f60",
   "metadata": {},
   "source": [
    "## Data Preprocessing :"
   ]
  },
  {
   "cell_type": "code",
   "execution_count": 1,
   "id": "c573c235",
   "metadata": {},
   "outputs": [],
   "source": [
    "## Importing necessary lib\n",
    "import pandas as pd\n",
    "import numpy as np\n",
    "import matplotlib.pyplot as plt\n",
    "%matplotlib inline\n",
    "import seaborn as sns\n",
    "import math\n",
    "from scipy import stats\n",
    "import warnings\n",
    "warnings.filterwarnings(\"ignore\")\n",
    "plt.style.use('dark_background')\n",
    "\n",
    "from sklearn.preprocessing import StandardScaler\n",
    "\n",
    "from sklearn.linear_model import LogisticRegression\n",
    "from sklearn.naive_bayes import GaussianNB\n",
    "\n",
    "from sklearn.metrics import accuracy_score,confusion_matrix,classification_report\n",
    "\n",
    "from sklearn.model_selection import train_test_split\n",
    "from sklearn.pipeline import Pipeline"
   ]
  },
  {
   "cell_type": "code",
   "execution_count": 2,
   "id": "7ef4f090",
   "metadata": {},
   "outputs": [],
   "source": [
    "# # Reading given txt file and creating dataframe\n",
    "\n",
    "# df_train = pd.read_csv(\"F:\\INC_ML_Shortlisted\\Occupancy_Data\\datatraining.txt\")\n",
    "# df_valid = pd.read_csv(\"F:\\INC_ML_Shortlisted\\Occupancy_Data\\datatest2.txt\")\n",
    "# df_test = pd.read_csv(\"F:\\INC_ML_Shortlisted\\Occupancy_Data\\datatest.txt\")\n",
    " \n",
    "# # Storing this dataframe in a csv file into the local file\n",
    "\n",
    "# df_train.to_csv(\"F:\\INC_ML_Shortlisted\\Occupancy_Data\\occu_training.csv\", \n",
    "#                   index = None)\n",
    "# df_valid.to_csv(\"F:\\INC_ML_Shortlisted\\Occupancy_Data\\occu_valid.csv\", \n",
    "#                   index = None)\n",
    "# df_test.to_csv(\"F:\\INC_ML_Shortlisted\\Occupancy_Data\\occu_test.csv\", \n",
    "#                   index = None)"
   ]
  },
  {
   "cell_type": "code",
   "execution_count": 3,
   "id": "d1b9fe9a",
   "metadata": {},
   "outputs": [],
   "source": [
    "## Reading the datasets\n",
    "train = pd.read_csv(\"F:\\INC_ML_Shortlisted\\Occupancy_Data\\occu_training.csv\")\n",
    "valid = pd.read_csv(\"F:\\INC_ML_Shortlisted\\Occupancy_Data\\occu_valid.csv\")\n",
    "test = pd.read_csv(\"F:\\INC_ML_Shortlisted\\Occupancy_Data\\occu_test.csv\")"
   ]
  },
  {
   "cell_type": "code",
   "execution_count": 4,
   "id": "b66baeef",
   "metadata": {},
   "outputs": [],
   "source": [
    "## Drop date variable from both train and test as it is useless for this purpose\n",
    "train = train.drop('date', axis = 1)\n",
    "valid = valid.drop('date', axis = 1)\n",
    "test = test.drop('date', axis = 1)"
   ]
  },
  {
   "cell_type": "code",
   "execution_count": 5,
   "id": "d6bba3cf",
   "metadata": {},
   "outputs": [
    {
     "data": {
      "text/html": [
       "<div>\n",
       "<style scoped>\n",
       "    .dataframe tbody tr th:only-of-type {\n",
       "        vertical-align: middle;\n",
       "    }\n",
       "\n",
       "    .dataframe tbody tr th {\n",
       "        vertical-align: top;\n",
       "    }\n",
       "\n",
       "    .dataframe thead th {\n",
       "        text-align: right;\n",
       "    }\n",
       "</style>\n",
       "<table border=\"1\" class=\"dataframe\">\n",
       "  <thead>\n",
       "    <tr style=\"text-align: right;\">\n",
       "      <th></th>\n",
       "      <th>Temperature</th>\n",
       "      <th>Humidity</th>\n",
       "      <th>Light</th>\n",
       "      <th>CO2</th>\n",
       "      <th>HumidityRatio</th>\n",
       "      <th>Occupancy</th>\n",
       "    </tr>\n",
       "  </thead>\n",
       "  <tbody>\n",
       "    <tr>\n",
       "      <th>0</th>\n",
       "      <td>23.18</td>\n",
       "      <td>27.2720</td>\n",
       "      <td>426.0</td>\n",
       "      <td>721.25</td>\n",
       "      <td>0.004793</td>\n",
       "      <td>1</td>\n",
       "    </tr>\n",
       "    <tr>\n",
       "      <th>1</th>\n",
       "      <td>23.15</td>\n",
       "      <td>27.2675</td>\n",
       "      <td>429.5</td>\n",
       "      <td>714.00</td>\n",
       "      <td>0.004783</td>\n",
       "      <td>1</td>\n",
       "    </tr>\n",
       "    <tr>\n",
       "      <th>2</th>\n",
       "      <td>23.15</td>\n",
       "      <td>27.2450</td>\n",
       "      <td>426.0</td>\n",
       "      <td>713.50</td>\n",
       "      <td>0.004779</td>\n",
       "      <td>1</td>\n",
       "    </tr>\n",
       "    <tr>\n",
       "      <th>3</th>\n",
       "      <td>23.15</td>\n",
       "      <td>27.2000</td>\n",
       "      <td>426.0</td>\n",
       "      <td>708.25</td>\n",
       "      <td>0.004772</td>\n",
       "      <td>1</td>\n",
       "    </tr>\n",
       "    <tr>\n",
       "      <th>4</th>\n",
       "      <td>23.10</td>\n",
       "      <td>27.2000</td>\n",
       "      <td>426.0</td>\n",
       "      <td>704.50</td>\n",
       "      <td>0.004757</td>\n",
       "      <td>1</td>\n",
       "    </tr>\n",
       "  </tbody>\n",
       "</table>\n",
       "</div>"
      ],
      "text/plain": [
       "   Temperature  Humidity  Light     CO2  HumidityRatio  Occupancy\n",
       "0        23.18   27.2720  426.0  721.25       0.004793          1\n",
       "1        23.15   27.2675  429.5  714.00       0.004783          1\n",
       "2        23.15   27.2450  426.0  713.50       0.004779          1\n",
       "3        23.15   27.2000  426.0  708.25       0.004772          1\n",
       "4        23.10   27.2000  426.0  704.50       0.004757          1"
      ]
     },
     "execution_count": 5,
     "metadata": {},
     "output_type": "execute_result"
    }
   ],
   "source": [
    "train.head()"
   ]
  },
  {
   "cell_type": "code",
   "execution_count": 6,
   "id": "a4c33758",
   "metadata": {},
   "outputs": [
    {
     "name": "stdout",
     "output_type": "stream",
     "text": [
      "<class 'pandas.core.frame.DataFrame'>\n",
      "RangeIndex: 8143 entries, 0 to 8142\n",
      "Data columns (total 6 columns):\n",
      " #   Column         Non-Null Count  Dtype  \n",
      "---  ------         --------------  -----  \n",
      " 0   Temperature    8143 non-null   float64\n",
      " 1   Humidity       8143 non-null   float64\n",
      " 2   Light          8143 non-null   float64\n",
      " 3   CO2            8143 non-null   float64\n",
      " 4   HumidityRatio  8143 non-null   float64\n",
      " 5   Occupancy      8143 non-null   int64  \n",
      "dtypes: float64(5), int64(1)\n",
      "memory usage: 381.8 KB\n"
     ]
    }
   ],
   "source": [
    "train.info()"
   ]
  },
  {
   "cell_type": "code",
   "execution_count": 7,
   "id": "1c2ca6df",
   "metadata": {},
   "outputs": [
    {
     "data": {
      "text/plain": [
       "((8143, 6), (9752, 6), (2665, 6))"
      ]
     },
     "execution_count": 7,
     "metadata": {},
     "output_type": "execute_result"
    }
   ],
   "source": [
    "train.shape,valid.shape, test.shape"
   ]
  },
  {
   "cell_type": "code",
   "execution_count": 8,
   "id": "e5c32548",
   "metadata": {},
   "outputs": [
    {
     "data": {
      "text/plain": [
       "Index(['Temperature', 'Humidity', 'Light', 'CO2', 'HumidityRatio',\n",
       "       'Occupancy'],\n",
       "      dtype='object')"
      ]
     },
     "execution_count": 8,
     "metadata": {},
     "output_type": "execute_result"
    }
   ],
   "source": [
    "train.columns"
   ]
  },
  {
   "cell_type": "markdown",
   "id": "5e7bc597",
   "metadata": {},
   "source": [
    "### Obs : As the dataset is already splitted into train , validation and test so we will not combine and split the data again\n"
   ]
  },
  {
   "cell_type": "code",
   "execution_count": 9,
   "id": "7d230d41",
   "metadata": {},
   "outputs": [
    {
     "data": {
      "text/plain": [
       "Temperature      0\n",
       "Humidity         0\n",
       "Light            0\n",
       "CO2              0\n",
       "HumidityRatio    0\n",
       "Occupancy        0\n",
       "dtype: int64"
      ]
     },
     "execution_count": 9,
     "metadata": {},
     "output_type": "execute_result"
    }
   ],
   "source": [
    "train.isnull().sum()"
   ]
  },
  {
   "cell_type": "code",
   "execution_count": 10,
   "id": "11699e56",
   "metadata": {},
   "outputs": [
    {
     "data": {
      "text/plain": [
       "Temperature      0\n",
       "Humidity         0\n",
       "Light            0\n",
       "CO2              0\n",
       "HumidityRatio    0\n",
       "Occupancy        0\n",
       "dtype: int64"
      ]
     },
     "execution_count": 10,
     "metadata": {},
     "output_type": "execute_result"
    }
   ],
   "source": [
    "valid.isnull().sum()"
   ]
  },
  {
   "cell_type": "code",
   "execution_count": 11,
   "id": "8cb141d8",
   "metadata": {},
   "outputs": [
    {
     "data": {
      "text/plain": [
       "Temperature      0\n",
       "Humidity         0\n",
       "Light            0\n",
       "CO2              0\n",
       "HumidityRatio    0\n",
       "Occupancy        0\n",
       "dtype: int64"
      ]
     },
     "execution_count": 11,
     "metadata": {},
     "output_type": "execute_result"
    }
   ],
   "source": [
    "test.isnull().sum()"
   ]
  },
  {
   "cell_type": "markdown",
   "id": "8988189f",
   "metadata": {},
   "source": [
    "### Obs : There is no missing value present in any of the dataset"
   ]
  },
  {
   "cell_type": "code",
   "execution_count": 12,
   "id": "bf0795f6",
   "metadata": {},
   "outputs": [],
   "source": [
    "## Function to check Normality using Skewness and kurtosis\n",
    "\n",
    "def skw_krt(data1):\n",
    "    \n",
    "    print(' 1. Skewness of the Every Column in the Dataset is:','\\n',data1.skew().abs())\n",
    "    print('')\n",
    "\n",
    "    print(' 2. Kurtosis of the Every Column in the Dataset is:','\\n',data1.kurtosis().abs())\n",
    "    print('')\n",
    "    \n",
    "    return"
   ]
  },
  {
   "cell_type": "code",
   "execution_count": 13,
   "id": "e81cc6d9",
   "metadata": {},
   "outputs": [
    {
     "name": "stdout",
     "output_type": "stream",
     "text": [
      " 1. Skewness of the Every Column in the Dataset is: \n",
      " Temperature      0.450868\n",
      "Humidity         0.272018\n",
      "Light            1.237440\n",
      "CO2              2.380910\n",
      "HumidityRatio    0.616681\n",
      "Occupancy        1.407109\n",
      "dtype: float64\n",
      "\n",
      " 2. Kurtosis of the Every Column in the Dataset is: \n",
      " Temperature      0.810242\n",
      "Humidity         0.931880\n",
      "Light            0.123152\n",
      "CO2              5.775411\n",
      "HumidityRatio    0.039355\n",
      "Occupancy        0.020050\n",
      "dtype: float64\n",
      "\n"
     ]
    }
   ],
   "source": [
    "skw_krt(train)"
   ]
  },
  {
   "cell_type": "code",
   "execution_count": 14,
   "id": "124643eb",
   "metadata": {},
   "outputs": [
    {
     "name": "stdout",
     "output_type": "stream",
     "text": [
      " 1. Skewness of the Every Column in the Dataset is: \n",
      " Temperature      1.228301\n",
      "Humidity         0.119257\n",
      "Light            1.512123\n",
      "CO2              1.545384\n",
      "HumidityRatio    0.166972\n",
      "Occupancy        1.423383\n",
      "dtype: float64\n",
      "\n",
      " 2. Kurtosis of the Every Column in the Dataset is: \n",
      " Temperature      1.270792\n",
      "Humidity         0.850902\n",
      "Light            1.230746\n",
      "CO2              1.480166\n",
      "HumidityRatio    0.611207\n",
      "Occupancy        0.026024\n",
      "dtype: float64\n",
      "\n"
     ]
    }
   ],
   "source": [
    "skw_krt(valid)"
   ]
  },
  {
   "cell_type": "code",
   "execution_count": 15,
   "id": "49dadc50",
   "metadata": {},
   "outputs": [
    {
     "name": "stdout",
     "output_type": "stream",
     "text": [
      " 1. Skewness of the Every Column in the Dataset is: \n",
      " Temperature      0.842562\n",
      "Humidity         0.672762\n",
      "Light            0.759940\n",
      "CO2              0.787597\n",
      "HumidityRatio    0.649385\n",
      "Occupancy        0.562365\n",
      "dtype: float64\n",
      "\n",
      " 2. Kurtosis of the Every Column in the Dataset is: \n",
      " Temperature      0.628995\n",
      "Humidity         0.272580\n",
      "Light            0.538937\n",
      "CO2              0.727056\n",
      "HumidityRatio    0.729942\n",
      "Occupancy        1.685011\n",
      "dtype: float64\n",
      "\n"
     ]
    }
   ],
   "source": [
    "skw_krt(test)"
   ]
  },
  {
   "cell_type": "markdown",
   "id": "16c82029",
   "metadata": {},
   "source": [
    "### Obs : All the data is normally distributed except CO2 feature in training data"
   ]
  },
  {
   "cell_type": "code",
   "execution_count": 16,
   "id": "d8662c24",
   "metadata": {},
   "outputs": [],
   "source": [
    "## Creating training and test data for independent and dependent variable\n",
    "x_train = train.drop('Occupancy', axis = 1)\n",
    "y_train = train['Occupancy']\n",
    "\n",
    "x_valid = valid.drop('Occupancy', axis = 1)\n",
    "y_valid = valid['Occupancy']\n",
    "\n",
    "x_test = test.drop('Occupancy', axis = 1)\n",
    "y_test = test['Occupancy']"
   ]
  },
  {
   "cell_type": "code",
   "execution_count": 17,
   "id": "aceb7c5d",
   "metadata": {},
   "outputs": [],
   "source": [
    "## Feature Scaling\n",
    "sc = StandardScaler()\n",
    "x_train_sc = sc.fit_transform(x_train)\n",
    "x_valid_sc = sc.transform(x_valid)"
   ]
  },
  {
   "cell_type": "markdown",
   "id": "58b10657",
   "metadata": {},
   "source": [
    "### Model_1 : Baseline Model_Gaussian Naive Bayes"
   ]
  },
  {
   "cell_type": "code",
   "execution_count": 18,
   "id": "05638d6c",
   "metadata": {},
   "outputs": [
    {
     "name": "stdout",
     "output_type": "stream",
     "text": [
      "------------------ NAIVE BAYES MODEL ------------------\n",
      "Training Score_Naive Bayes Model : 0.9789\n",
      "\n",
      "Valid Score_Naive Bayes Model : 0.9869\n",
      "\n",
      "Confusion Matrix_Naive Bayes Model :\n",
      " [[7589  114]\n",
      " [  14 2035]]\n",
      "\n",
      "Classification Report_NB Model :\n",
      "               precision    recall  f1-score   support\n",
      "\n",
      "           0       1.00      0.99      0.99      7703\n",
      "           1       0.95      0.99      0.97      2049\n",
      "\n",
      "    accuracy                           0.99      9752\n",
      "   macro avg       0.97      0.99      0.98      9752\n",
      "weighted avg       0.99      0.99      0.99      9752\n",
      "\n"
     ]
    }
   ],
   "source": [
    "## Creating  Model\n",
    "print('------------------ NAIVE BAYES MODEL ------------------')\n",
    "\n",
    "model_naive = GaussianNB()\n",
    "model_naive.fit(x_train_sc, y_train)\n",
    "\n",
    "## Determining score of training and test dataset\n",
    "print('Training Score_Naive Bayes Model : %0.4f'%model_naive.score(x_train_sc, y_train))\n",
    "# print('Test Score_Naive Bayes Model : %0.4f'%naive.score(x_test_sc,y_test))\n",
    "print('')\n",
    "## Predicting and determing accuracy of the model\n",
    "naive_pred = model_naive.predict(x_valid_sc)\n",
    "naive_score = accuracy_score(y_valid,naive_pred)\n",
    "print('Valid Score_Naive Bayes Model : %0.4f'%naive_score)\n",
    "print('')\n",
    "## Determining accuracy using Confusion Matrix\n",
    "naive_results = confusion_matrix(y_valid,naive_pred)\n",
    "print('Confusion Matrix_Naive Bayes Model :\\n',naive_results)\n",
    "print('')\n",
    "## Classification Report\n",
    "print('Classification Report_NB Model :\\n',classification_report(y_valid,naive_pred))"
   ]
  },
  {
   "cell_type": "markdown",
   "id": "5f66ffce",
   "metadata": {},
   "source": [
    "### Obs : Model Accuracy is quite good along with both Precision , Recall and f1-score"
   ]
  },
  {
   "cell_type": "markdown",
   "id": "9adc1dc4",
   "metadata": {},
   "source": [
    "## Model_2 : Logistic Regression"
   ]
  },
  {
   "cell_type": "code",
   "execution_count": 19,
   "id": "52d0e61e",
   "metadata": {},
   "outputs": [
    {
     "name": "stdout",
     "output_type": "stream",
     "text": [
      "------------------ LOGISTIC REGRESSION MODEL ------------------\n",
      "Training Score_Naive Bayes Model : 0.9860\n",
      "\n",
      "Valid Score_Logistic Reg : 0.9849\n",
      "\n",
      "Confusion Matrix_Logistic Reg :\n",
      " [[7651   52]\n",
      " [  95 1954]]\n",
      "\n",
      "Classification Report_Logistic Reg :\n",
      "               precision    recall  f1-score   support\n",
      "\n",
      "           0       0.99      0.99      0.99      7703\n",
      "           1       0.97      0.95      0.96      2049\n",
      "\n",
      "    accuracy                           0.98      9752\n",
      "   macro avg       0.98      0.97      0.98      9752\n",
      "weighted avg       0.98      0.98      0.98      9752\n",
      "\n"
     ]
    }
   ],
   "source": [
    "## Creating  Model\n",
    "print('------------------ LOGISTIC REGRESSION MODEL ------------------')\n",
    "\n",
    "model_logis = LogisticRegression()\n",
    "model_logis.fit(x_train_sc, y_train)\n",
    "\n",
    "## Determining score of training and test dataset\n",
    "print('Training Score_Naive Bayes Model : %0.4f'%model_logis.score(x_train_sc, y_train))\n",
    "print('')\n",
    "# print('Test Score_Naive Bayes Model : %0.4f'%logis.score(x_test_sc,y_test))\n",
    "## Predicting and determing accuracy of the model\n",
    "logis_pred = model_logis.predict(x_valid_sc)\n",
    "logis_score = accuracy_score(y_valid,logis_pred)\n",
    "print('Valid Score_Logistic Reg : %0.4f'%logis_score)\n",
    "print('')\n",
    "## Determining accuracy using Confusion Matrix\n",
    "logis_results = confusion_matrix(y_valid,logis_pred)\n",
    "print('Confusion Matrix_Logistic Reg :\\n',logis_results)\n",
    "print('')\n",
    "## Classification Report\n",
    "print('Classification Report_Logistic Reg :\\n',classification_report(y_valid,logis_pred))"
   ]
  },
  {
   "cell_type": "markdown",
   "id": "a897f6a9",
   "metadata": {},
   "source": [
    "#### Obs : \n",
    "- No big difference in train and valid score in both NB model and Logistic reg\n",
    "- Accuracy of the NB model is slightly higher than Logistic Reg model"
   ]
  },
  {
   "cell_type": "markdown",
   "id": "d03e4553",
   "metadata": {},
   "source": [
    "## Final Model on Test data:"
   ]
  },
  {
   "cell_type": "code",
   "execution_count": 20,
   "id": "8987e408",
   "metadata": {},
   "outputs": [
    {
     "name": "stdout",
     "output_type": "stream",
     "text": [
      "Test Score_NB Model : 0.9775\n",
      "\n",
      "Confusion Matrix_NB Model :\n",
      " [[1638   55]\n",
      " [   5  967]]\n",
      "\n",
      "Classification Report_NB Model :\n",
      "               precision    recall  f1-score   support\n",
      "\n",
      "           0       1.00      0.97      0.98      1693\n",
      "           1       0.95      0.99      0.97       972\n",
      "\n",
      "    accuracy                           0.98      2665\n",
      "   macro avg       0.97      0.98      0.98      2665\n",
      "weighted avg       0.98      0.98      0.98      2665\n",
      "\n"
     ]
    }
   ],
   "source": [
    "x_test_sc = sc.transform(x_test)\n",
    "## Determining Accuracy of the created model through confusion matrix\n",
    "y_pred = model_naive.predict(x_test_sc)\n",
    "final_score = accuracy_score(y_test,y_pred)\n",
    "print('Test Score_NB Model : %0.4f'%final_score)\n",
    "print('')\n",
    "## Determining accuracy using Confusion Matrix\n",
    "final_results = confusion_matrix(y_test,y_pred)\n",
    "print('Confusion Matrix_NB Model :\\n',final_results)\n",
    "print('')\n",
    "## Classification Report\n",
    "print('Classification Report_NB Model :\\n',classification_report(y_test,y_pred))\n",
    "    "
   ]
  },
  {
   "cell_type": "markdown",
   "id": "ac794007",
   "metadata": {},
   "source": [
    "## Obs : Final Model also works very well with Test data"
   ]
  },
  {
   "cell_type": "code",
   "execution_count": null,
   "id": "ab167314",
   "metadata": {},
   "outputs": [],
   "source": []
  }
 ],
 "metadata": {
  "kernelspec": {
   "display_name": "Python 3 (ipykernel)",
   "language": "python",
   "name": "python3"
  },
  "language_info": {
   "codemirror_mode": {
    "name": "ipython",
    "version": 3
   },
   "file_extension": ".py",
   "mimetype": "text/x-python",
   "name": "python",
   "nbconvert_exporter": "python",
   "pygments_lexer": "ipython3",
   "version": "3.9.12"
  }
 },
 "nbformat": 4,
 "nbformat_minor": 5
}
